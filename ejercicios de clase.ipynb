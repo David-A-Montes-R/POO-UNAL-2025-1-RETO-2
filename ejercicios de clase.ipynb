{
 "cells": [
  {
   "cell_type": "code",
   "execution_count": 20,
   "id": "281a1c75",
   "metadata": {},
   "outputs": [
    {
     "ename": "TypeError",
     "evalue": "Persona.saludo() missing 1 required positional argument: 'nombre'",
     "output_type": "error",
     "traceback": [
      "\u001b[1;31m---------------------------------------------------------------------------\u001b[0m",
      "\u001b[1;31mTypeError\u001b[0m                                 Traceback (most recent call last)",
      "Cell \u001b[1;32mIn[20], line 9\u001b[0m\n\u001b[0;32m      7\u001b[0m         \u001b[38;5;28mprint\u001b[39m(\u001b[38;5;124mf\u001b[39m\u001b[38;5;124m\"\u001b[39m\u001b[38;5;124m hola, un gusto conocerte; mi nombre es \u001b[39m\u001b[38;5;132;01m{\u001b[39;00m\u001b[38;5;28mself\u001b[39m\u001b[38;5;241m.\u001b[39mnombre\u001b[38;5;132;01m}\u001b[39;00m\u001b[38;5;124m\"\u001b[39m)\n\u001b[0;32m      8\u001b[0m persona_1 \u001b[38;5;241m=\u001b[39m Persona(nombre \u001b[38;5;241m=\u001b[39m \u001b[38;5;124m\"\u001b[39m\u001b[38;5;124msad\u001b[39m\u001b[38;5;124m\"\u001b[39m, edad \u001b[38;5;241m=\u001b[39m \u001b[38;5;241m18\u001b[39m )\n\u001b[1;32m----> 9\u001b[0m \u001b[43mpersona_1\u001b[49m\u001b[38;5;241;43m.\u001b[39;49m\u001b[43msaludo\u001b[49m\u001b[43m(\u001b[49m\u001b[43m)\u001b[49m\n",
      "\u001b[1;31mTypeError\u001b[0m: Persona.saludo() missing 1 required positional argument: 'nombre'"
     ]
    }
   ],
   "source": [
    "class Persona:\n",
    "    especie: str = \"homo sapiens sapiens\"\n",
    "    def __init__(self,nombre,edad):\n",
    "        self.nombre = nombre\n",
    "        self.edad = edad\n",
    "    def saludo(self, nombre):\n",
    "        print(f\" hola, un gusto conocerte; mi nombre es {self.nombre}\")\n",
    "persona_1 = Persona(nombre = \"sad\", edad = 18 )\n",
    "persona_1.saludo()"
   ]
  },
  {
   "cell_type": "code",
   "execution_count": 21,
   "id": "300a5dc3",
   "metadata": {},
   "outputs": [
    {
     "name": "stdout",
     "output_type": "stream",
     "text": [
      "Marca del vehículo: Mazda\n",
      "Modelo del coche: 2020\n"
     ]
    }
   ],
   "source": [
    "class Vehiculo:\n",
    "  def __init__(self, marca):\n",
    "    self.marca = marca\n",
    "\n",
    "  def mostrar_marca(self):\n",
    "    print(f\"Marca del vehículo: {self.marca}\")\n",
    "\n",
    "class Coche(Vehiculo):\n",
    "  def __init__(self, marca, modelo):\n",
    "    super().__init__(marca)\n",
    "    self.modelo = modelo\n",
    "\n",
    "  def mostrar_modelo(self):\n",
    "    print(f\"Modelo del coche: {self.modelo}\")\n",
    "\n",
    "carro = Coche(marca=\"Mazda\", modelo=\"2020\")\n",
    "carro.mostrar_marca()\n",
    "carro.mostrar_modelo()"
   ]
  },
  {
   "cell_type": "code",
   "execution_count": 22,
   "id": "c94c0043",
   "metadata": {},
   "outputs": [
    {
     "name": "stdout",
     "output_type": "stream",
     "text": [
      "Sending email: Mail\n",
      "Sending SMS: SMS\n"
     ]
    }
   ],
   "source": [
    "class EmailSender:\n",
    "  def send_email(self, message):\n",
    "    print(f\"Sending email: {message}\")\n",
    "\n",
    "class SMSSender:\n",
    "  def send_sms(self, message):\n",
    "    print(f\"Sending SMS: {message}\")\n",
    "\n",
    "class NotificationManager(EmailSender, SMSSender):\n",
    "  pass\n",
    "\n",
    "manager = NotificationManager()\n",
    "manager.send_email(\"Mail\") # Here you can change the message in the e-mail\n",
    "manager.send_sms(\"SMS\") # Here yo can change the text in the sms"
   ]
  },
  {
   "cell_type": "code",
   "execution_count": 16,
   "id": "3d9265b3",
   "metadata": {},
   "outputs": [
    {
     "name": "stdout",
     "output_type": "stream",
     "text": [
      "50\n",
      "4\n",
      "True\n"
     ]
    }
   ],
   "source": [
    "class Rectangle:\n",
    "    greet: str = \"hello, i am a rectangle\"\n",
    "    def __init__(self, x, y, width , height):\n",
    "        self.x = x\n",
    "        self.y = y\n",
    "        self.width: float = width\n",
    "        self.height: float = height\n",
    "        self.center = (self.x + width/2, self.y + height/2)\n",
    "    def area(self):\n",
    "        a = self.width*self.height\n",
    "        return a\n",
    "    def perimeter(self):\n",
    "        p = 2*self.width + 2*self.height\n",
    "        return p\n",
    "    def compute_interference_point(self, x_punto:float, y_punto:float):\n",
    "        if (self.x <= x_punto <= (self.x + self.width) and\n",
    "            self.y <= y_punto <= (self.y + self.height)):\n",
    "            return True\n",
    "        else: return False\n",
    "    def compute_interference_line(self, x_1:float, y_1:float, x_2:float, y_2:float):\n",
    "        pendiente:float = ((y_2 - y_1) / (x_2 - x_1))\n",
    "        \n",
    "        pass\n",
    "rectangulo_1 = Rectangle( x = 1, y = 1, width= 10, height = 15)\n",
    "print(rectangulo_1.perimeter())\n",
    "class Square(Rectangle):\n",
    "    def __init__(self, x, y, side ):\n",
    "        super().__init__(x, y, side, side)\n",
    "        self.width = side\n",
    "        self.height = side\n",
    "cuadrado_1 = Square( x = 1, y = 1, side = 2)  \n",
    "     \n",
    "print(cuadrado_1.area())\n",
    "\n",
    "print(rectangulo_1.compute_interference_point( 11,16))\n",
    "\n",
    "        "
   ]
  }
 ],
 "metadata": {
  "kernelspec": {
   "display_name": "Python 3",
   "language": "python",
   "name": "python3"
  },
  "language_info": {
   "codemirror_mode": {
    "name": "ipython",
    "version": 3
   },
   "file_extension": ".py",
   "mimetype": "text/x-python",
   "name": "python",
   "nbconvert_exporter": "python",
   "pygments_lexer": "ipython3",
   "version": "3.12.2"
  }
 },
 "nbformat": 4,
 "nbformat_minor": 5
}
